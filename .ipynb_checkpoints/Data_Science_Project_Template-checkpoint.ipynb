{
 "cells": [
  {
   "cell_type": "markdown",
   "id": "eea15116",
   "metadata": {},
   "source": [
    "\n",
    "# Project Title\n",
    "\n",
    "Real-time Anomaly Detection in Financial Transactions\n",
    "\n",
    "        "
   ]
  },
  {
   "cell_type": "markdown",
   "id": "5f8ea9bf",
   "metadata": {},
   "source": [
    "\n",
    "## Authors and Team\n",
    "\n",
    "- **Author 1**: Ferris Atassi, Developer\n",
    "- **Author 2**: Charles Hang, Developer\n",
    "- **Author 3**: Name, Role"
   ]
  },
  {
   "cell_type": "markdown",
   "id": "06cf532e",
   "metadata": {},
   "source": [
    "\n",
    "## Abstract\n",
    "\n",
    "The key objectives of our chosen project is to design a system through a trained model to detect fraudulent financial transactions through identifiable features and patterns that are prevalent in invalid monetary exchanges. This will be done by analyzing time series data to ascertain patterns indicative of fraud. This project utilizes the IEEE-CIS Fraud Detection dataset and is known to contain fraudulent transactions within its multitude of samples.\n",
    "\n",
    "Key techniques involved include: Isolation Forest for anomaly detection, Autoencoders for identifying latent irregularities, and Recurrent Neural Networks for analyzing sequential transaction data. Clustering will also be used to group similar transactions behaviors/details with real-time streaming data analysis.\n",
    "\n",
    "The anticipated outcome is a highly accurate, real-time detection system that can be efficiently used to detect fraud in financial transactions. The dataset it is trained on contains millions of rows of financial transactions, ensuring that the model is improved using suitable data\n",
    "        "
   ]
  },
  {
   "cell_type": "markdown",
   "id": "aa57a788",
   "metadata": {},
   "source": [
    "\n",
    "## Project Description\n",
    "\n",
    "### 4.1 [Problem Definition]\n",
    "\n",
    "#### i. What is the Research Problem that you will be addressing using an Analytical Framework?\n",
    "The research problem we will address using an analytical framework is problem 15, \"Real-time Anomaly Detection in Financial Transactions.\"\n",
    "\n",
    "#### ii. Motivation\n",
    "Our motivation in choosing this problem is to learn methods of detecting anomalous data in very large datasets. This knowledge is useful in not only fraud detection problems such as the one provided, but also in other areas such as in detecting data quality problems in operational data, a topic one of us is working on professionally. Additionally, this problem will give us experience working with financial data, including experience with using ML techniques in analyzing trends in financial transactions for specific customesr, a topic we are interested in.\n",
    "\n",
    "#### iii. What decisions will you be impacting?\n",
    "Our project will impact decisions to accept or reject financial transactions based on suspicion of fraud. More broadly, it will help fraud detection specialists at financial institutions develop tools to detect fraudulent financial transactions.\n",
    "\n",
    "#### iv. What is the business/societal value of the decisions to be impacted?\n",
    "The business value of the impacted decisions is that transaction fraud costs consumers, financial companies, and retailers billions of dollars every year. Reducing the amount of that fraud will lead to large savings for those companies from selling fewer goods and services to fraudulent buyers and incurring the costs associated with that (such as chargebacks). Similarly, reducing the number of fraudulent transactions will help consumers by protecting them from accidentally paying for fraudulent transactions and also lowering the prices they have to pay for goods and services (since providers will not need to raise prices as much to account for the costs from fraud). \n",
    "\n",
    "The societal value is to reduce the inconvenience of fraud on customers (such as the time required for customers to reverse transactions, order new credit cards, etc). More broadly, reducing fraud rates boosts societal trust as a whole.\n",
    "\n",
    "#### v. Why is this project important to you?\n",
    "This project will teach the ability to use ML to detect anomalous behavior in large datasets, which is useful since one of us is currently working on a similar project at work. Similarly, it specifically focuses on detecting unusual transaction patterns in financial transactions, which is also a topic one of us is working on at work. More broadly, it provides an introduction to financial data, which is a form of data that both of us are looking for more exposure to. Finally, it addresses a growing societal problem that affects everyone.         "
   ]
  },
  {
   "cell_type": "markdown",
   "id": "1faf5938",
   "metadata": {},
   "source": [
    "\n",
    "### 4.2 [Methods]\n",
    "\n",
    "#### i. How are you planning to approach the solution to your research problem?\n",
    "Our plan is to follow the workflow from the article \"Build end-to-end machine learning workflows with Amazon SageMaker and Apache Airflow\" cited in the \"Morphisms Summary\" presentation. Specifically, according to the stages of that workflow, this is our plan:\n",
    "\n",
    "1/ Data Acquisition: We have already acquired the relevant dataset (the IEEE-CIS Fraud Detection dataset) from the Kaggle website.\n",
    "\n",
    "2/ Data Pre-processing: We plan to examine the data for missing data (for example, null values in relevant fields), outliers (by using statistical tools since as box plots and z tests) and long tails to better understand how the data is structured and how that will affect our analysis.\n",
    "\n",
    "3/ Data Transformation: Once we have analyzed the data, we may need to do transformations to make it easier to analyze. This may include changing data types (converting address data to geospatial data in the form of longitude and latitudes to make calculating distances between transaction locations easier, for example) and standardizing it (for example, normalizing transaction amounts to calculate how many standard deviations a transaction amount is from the mean).\n",
    "\n",
    "4/ Model Training / Hyperparameter Tuning: Once we have chosen a model, we will use various techniques to train it to detect fraudulent transactions, including hyperparameter tuning.\n",
    "\n",
    "5/ Batch Inference: Because the dataset is large, we may use batch inference to obtain outputs from our model.\n",
    "\n",
    "6/ Model Evaluation: We will use various techniques to evaluate the effectiveness of our model in finding anomalies. \n",
    "\n",
    "#### ii. What is the data asset that you plan on using?\n",
    "The IEEE-CIS Fraud Detection dataset obtained from the Kaggle website.\n",
    "\n",
    "#### iii. What are the types of analytical frameworks that you would be using?\n",
    "* Descriptive - Describing transaction characteristics and looking for which characteristics are indicative of fraudulent transactions versus real transactions. A preliminary look into the data indicates that it includes whether a transaction has been charged back, indicating that it is fraudulent. We can use this to see what characteristics (unusual transaction size, location, etc.) fraudulent transactions have as part of our descriptive framework.\n",
    "\n",
    "* Predictive - Once we have described characteristics of fraudulent transactions, we can use those characteristics to create a model to predict which transactions are fraudulent. For example, we might predict that transactions with unusual sizes or in unusual places are fraudulent.\n",
    "\n",
    "* Prescriptive - Once our model can successfully predict which characteristics of a transaction should cause it to be flagged as fraudulent, we can then offer prescriptions as to what sort of transactions should be blocked due to a high fraud risk.\n",
    "\n",
    "As mentioned above, these are specific models we plan to explore:\n",
    "\n",
    "* Isolation Forest for anomaly detection\n",
    "* Autoencorders for identifying latent irregularities\n",
    "* Recurrent Neural Networks for analyzing sequential transaction data\n",
    "* Clustering will also be used to group similar transactions behaviors/details with real-time streaming data analysis.\n",
    "\n",
    "*Discuss the analytical frameworks (descriptive, predictive, prescriptive) and specific models you plan to explore.*\n",
    "        "
   ]
  },
  {
   "cell_type": "markdown",
   "id": "3888d2fe",
   "metadata": {},
   "source": [
    "\n",
    "## Bibliography\n",
    "\n",
    "**List all the references you used to support your project.**\n",
    "\n",
    "- “Build End-To-End Machine Learning Workflows with Amazon SageMaker and Apache Airflow.” Amazon Web Services, 8 May 2019, aws.amazon.com/blogs/machine-learning/build-end-to-end-machine-learning-workflows-with-amazon-sagemaker-and-apache-airflow/.\n",
    "- La Rosa, Patricio, PhD, Cawi, Eric, PhD. \"Morphisms Summary\" https://wustl.instructure.com/courses/132477/files/8326970?module_item_id=2409943 Slideshow.\n",
    "        "
   ]
  },
  {
   "cell_type": "code",
   "execution_count": null,
   "id": "fb0861c6",
   "metadata": {},
   "outputs": [],
   "source": []
  }
 ],
 "metadata": {
  "kernelspec": {
   "display_name": "Python 3 (ipykernel)",
   "language": "python",
   "name": "python3"
  },
  "language_info": {
   "codemirror_mode": {
    "name": "ipython",
    "version": 3
   },
   "file_extension": ".py",
   "mimetype": "text/x-python",
   "name": "python",
   "nbconvert_exporter": "python",
   "pygments_lexer": "ipython3",
   "version": "3.9.18"
  }
 },
 "nbformat": 4,
 "nbformat_minor": 5
}
