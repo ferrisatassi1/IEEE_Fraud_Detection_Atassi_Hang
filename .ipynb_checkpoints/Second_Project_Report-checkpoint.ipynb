{
 "cells": [
  {
   "cell_type": "markdown",
   "id": "d343cb74",
   "metadata": {},
   "source": [
    "# Project Title\n",
    "Real-time Anomaly Detection in Financial Transactions"
   ]
  },
  {
   "cell_type": "markdown",
   "id": "38707625",
   "metadata": {},
   "source": [
    "\n",
    "## Authors and Team\n",
    "\n",
    "- **Author 1**: Ferris Atassi, Developer\n",
    "- **Author 2**: Charles Hang, Developer"
   ]
  },
  {
   "cell_type": "markdown",
   "id": "7e67ce2e",
   "metadata": {},
   "source": [
    "# Executive Summary"
   ]
  },
  {
   "cell_type": "markdown",
   "id": "7f0ac2a5",
   "metadata": {},
   "source": [
    "- [Decisions to be impacted]\n",
    "- [Business value]\n",
    "- [Data assets]"
   ]
  },
  {
   "cell_type": "markdown",
   "id": "cbe80df3",
   "metadata": {},
   "source": [
    "# Data Preprocessing"
   ]
  },
  {
   "cell_type": "markdown",
   "id": "ac8a48a1",
   "metadata": {},
   "source": [
    "- Data Description -- summary of datasets and visualizations of input data\n",
    "- Introduce the data cleaning metrics you used in the process and outlier detection.\n",
    "Data consists of two types of datasets, with both test and training verions of each, resulting in total: 4 data sets: train_identity, test_identity, train_transaction, and test_transaction. They key feature we are looking to analyze is the 'isFraud' field, indicating whether a transaction has been flagged as fraudulent or not. The first step was to combine the test and train datasets into their own, resulting in a train and test dataset. \n",
    "\n",
    "The Train dataset consists of "
   ]
  },
  {
   "cell_type": "markdown",
   "id": "def954ba",
   "metadata": {},
   "source": [
    "# Model Updates"
   ]
  },
  {
   "cell_type": "markdown",
   "id": "3798b911",
   "metadata": {},
   "source": [
    "- Include what models you are using or planning to use to support your decision.\n",
    "- A writeup of machine learning workflow as Machine Learning Morphism (MLM)."
   ]
  },
  {
   "cell_type": "markdown",
   "id": "becc4fde",
   "metadata": {},
   "source": [
    "# Source Code"
   ]
  },
  {
   "cell_type": "code",
   "execution_count": null,
   "id": "19f57b89",
   "metadata": {},
   "outputs": [],
   "source": [
    "https://github.com/ferrisatassi1/IEEE_Fraud_Detection_Atassi_Hang"
   ]
  },
  {
   "cell_type": "markdown",
   "id": "555324b6",
   "metadata": {},
   "source": [
    "# Next Steps"
   ]
  },
  {
   "cell_type": "markdown",
   "id": "d8efcea7",
   "metadata": {},
   "source": [
    "Your plan of how to continue or improve your methods/models and the timeline of next steps."
   ]
  },
  {
   "cell_type": "code",
   "execution_count": null,
   "id": "171271e3",
   "metadata": {},
   "outputs": [],
   "source": []
  }
 ],
 "metadata": {
  "kernelspec": {
   "display_name": "Python 3 (ipykernel)",
   "language": "python",
   "name": "python3"
  },
  "language_info": {
   "codemirror_mode": {
    "name": "ipython",
    "version": 3
   },
   "file_extension": ".py",
   "mimetype": "text/x-python",
   "name": "python",
   "nbconvert_exporter": "python",
   "pygments_lexer": "ipython3",
   "version": "3.9.18"
  }
 },
 "nbformat": 4,
 "nbformat_minor": 5
}
