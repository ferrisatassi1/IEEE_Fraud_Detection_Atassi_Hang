{
 "cells": [
  {
   "cell_type": "code",
   "execution_count": 2,
   "id": "92aec08c",
   "metadata": {},
   "outputs": [],
   "source": [
    "import pandas as pd\n",
    "import numpy as np\n",
    "import seaborn as sns\n",
    "import matplotlib.pyplot as plt\n",
    "from sklearn.model_selection import train_test_split\n",
    "import scipy\n",
    "import math"
   ]
  },
  {
   "cell_type": "code",
   "execution_count": 4,
   "id": "ee17c2ad",
   "metadata": {},
   "outputs": [],
   "source": [
    "train_identity = pd.read_csv(r'train_identity.csv')\n",
    "test_identiy = pd.read_csv(r'test_identity.csv')\n",
    "test_transaction = pd.read_csv(r'test_transaction.csv')\n",
    "train_transaction = pd.read_csv(r'train_transaction.csv')"
   ]
  }
 ],
 "metadata": {
  "kernelspec": {
   "display_name": "Python 3 (ipykernel)",
   "language": "python",
   "name": "python3"
  },
  "language_info": {
   "codemirror_mode": {
    "name": "ipython",
    "version": 3
   },
   "file_extension": ".py",
   "mimetype": "text/x-python",
   "name": "python",
   "nbconvert_exporter": "python",
   "pygments_lexer": "ipython3",
   "version": "3.9.18"
  }
 },
 "nbformat": 4,
 "nbformat_minor": 5
}
