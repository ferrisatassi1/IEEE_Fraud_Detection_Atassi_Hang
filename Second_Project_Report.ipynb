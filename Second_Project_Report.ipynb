{
 "cells": [
  {
   "cell_type": "markdown",
   "id": "e5669dcc",
   "metadata": {},
   "source": [
    "# Project Title\n",
    "Real-time Anomaly Detection in Financial Transactions"
   ]
  },
  {
   "cell_type": "markdown",
   "id": "db16afd4",
   "metadata": {},
   "source": [
    "\n",
    "## Authors and Team\n",
    "\n",
    "- **Author 1**: Ferris Atassi, Developer\n",
    "- **Author 2**: Charles Hang, Developer"
   ]
  },
  {
   "cell_type": "markdown",
   "id": "d1de5c70",
   "metadata": {},
   "source": [
    "# Executive Summary"
   ]
  },
  {
   "cell_type": "markdown",
   "id": "ab363b6d",
   "metadata": {},
   "source": [
    "- [Decisions to be impacted]\n",
    "- [Business value]\n",
    "- [Data assets]"
   ]
  },
  {
   "cell_type": "markdown",
   "id": "831daa3f",
   "metadata": {},
   "source": [
    "# Data Preprocessing"
   ]
  },
  {
   "cell_type": "markdown",
   "id": "5112afb9",
   "metadata": {},
   "source": [
    "- Data Description -- summary of datasets and visualizations of input data\n",
    "- Introduce the data cleaning metrics you used in the process and outlier detection.\n",
    "Data consists of two types of datasets, with both test and training verions of each, resulting in total: 4 data sets: train_identity, test_identity, train_transaction, and test_transaction. They key feature we are looking to analyze is the 'isFraud' field, indicating whether a transaction has been flagged as fraudulent or not. The first step was to combine the test and train datasets into their own, resulting in a train and test dataset. \n",
    "\n",
    "The Train and Test datasets consists of multiple groupings of features: TransactionID: ID of the transaction, TransactionDT: timestamp of transaction, TransactionAMT: transaction amount, ProductCD: product code, card1-6: card type and other information, addr1-2: billing address of transaction, dist1-2: distance from billing adress to address of purchase, P_emaildomain: purchaser email domain, R_emaildomain: reciever email domain, C1-14: feature that is counted across different transactions (meaning not given in dataset), D1-15: times between transactions (meaning not given in dataset), M1-9: Matches of fields for each transaction (meaning not given in dataset), V1-???: (meaning not derived yet), id_01-id_38: identification information accumulated by anti-fraud software that developed dataset, DeviceType: type of device transaction was done on, and DeviceInfo: information of device. isFraud is a field only present in the train dataset flagging whether a transaction is considered to be fraud or not (0-not fraud, 1-fraud). \n",
    "\n",
    "Current preliminary visualizations include: counts of fraudulent vs non-fraudulent transactions (bar chart), transaction amounts of fraudulent transactions (histogram), Zscores of fraudulent transaction amounts (histogram), --ADD MORE--\n",
    "\n"
   ]
  },
  {
   "cell_type": "markdown",
   "id": "fdbef317",
   "metadata": {},
   "source": [
    "# Model Updates"
   ]
  },
  {
   "cell_type": "markdown",
   "id": "3f3cb955",
   "metadata": {},
   "source": [
    "- Include what models you are using or planning to use to support your decision.\n",
    "- A writeup of machine learning workflow as Machine Learning Morphism (MLM)."
   ]
  },
  {
   "cell_type": "markdown",
   "id": "03f2a836",
   "metadata": {},
   "source": [
    "# Source Code"
   ]
  },
  {
   "cell_type": "code",
   "execution_count": null,
   "id": "a89a886c",
   "metadata": {},
   "outputs": [],
   "source": [
    "https://github.com/ferrisatassi1/IEEE_Fraud_Detection_Atassi_Hang"
   ]
  },
  {
   "cell_type": "markdown",
   "id": "ec32dbc8",
   "metadata": {},
   "source": [
    "# Next Steps"
   ]
  },
  {
   "cell_type": "markdown",
   "id": "b99cc0d5",
   "metadata": {},
   "source": [
    "Your plan of how to continue or improve your methods/models and the timeline of next steps."
   ]
  },
  {
   "cell_type": "code",
   "execution_count": null,
   "id": "c7eb8930",
   "metadata": {},
   "outputs": [],
   "source": []
  }
 ],
 "metadata": {
  "kernelspec": {
   "display_name": "Python 3 (ipykernel)",
   "language": "python",
   "name": "python3"
  },
  "language_info": {
   "codemirror_mode": {
    "name": "ipython",
    "version": 3
   },
   "file_extension": ".py",
   "mimetype": "text/x-python",
   "name": "python",
   "nbconvert_exporter": "python",
   "pygments_lexer": "ipython3",
   "version": "3.9.18"
  }
 },
 "nbformat": 4,
 "nbformat_minor": 5
}
