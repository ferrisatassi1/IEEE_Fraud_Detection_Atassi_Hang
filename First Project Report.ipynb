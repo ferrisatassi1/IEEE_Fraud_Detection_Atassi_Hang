
## Project Description

### 4.1 [Problem Definition]

#### i. What is the Research Problem that you will be addressing using an Analytical Framework?

The research problem we will address using an analytical framework is problem 15, "Real-time Anomaly Detection in Financial Transactions."

#### ii. Motivation

Our motivation in choosing this problem is to learn methods of detecting anomalous data in very large datasets. This knowledge is useful in not only fraud detection problems such as the one provided, but also in other areas such as in detecting data quality problems in operational data, a topic one of us is working on professionally. Additionally, this problem will give us experience working with financial data, including experience with using ML techniques in analyzing trends in financial transactions for specific customesr, a topic we are interested in.

#### iii. What decisions will you be impacting?

Our project will impact decisions to accept or reject financial transactions based on suspicion of fraud. More broadly, it will help fraud detection specialists at financial institutions develop tools to detect fraudulent financial transactions.

#### iv. What is the business/societal value of the decisions to be impacted?

The business value of the impacted decisions is that transaction fraud costs consumers, financial companies, and retailers billions of dollars every year. Reducing the amount of that fraud will lead to large savings for those companies from selling fewer goods and services to fraudulent buyers and incurring the costs associated with that (such as chargebacks). Similarly, reducing the number of fraudulent transactions will help consumers by protecting them from accidentally paying for fraudulent transactions and also lowering the prices they have to pay for goods and services (since providers will not need to raise prices as much to account for the costs from fraud). 

The societal value is to reduce the inconvenience of fraud on customers (such as the time required for customers to reverse transactions, order new credit cards, etc). More broadly, reducing fraud rates boosts societal trust as a whole.

#### v. Why is this project important to you?

This project will teach the ability to use ML to detect anomalous behavior in large datasets, which is useful since one of us is currently working on a similar project at work. Similarly, it specifically focuses on detecting unusual transaction patterns in financial transactions, which is also a topic one of us is working on at work. More broadly, it provides an introduction to financial data, which is a form of data that both of us are looking for more exposure to. Finally, it addresses a growing societal problem that affects everyone.  


### 4.2 [Methods]

#### i. How are you planning to approach the solution to your research problem?

Our plan is to follow the workflow from the article "Build end-to-end machine learning workflows with Amazon SageMaker and Apache Airflow" cited in the "Morphisms Summary" presentation. Specifically, according to the stages of that workflow, this is our plan:

1/ Data Acquisition: We have already acquired the relevant dataset (the IEEE-CIS Fraud Detection dataset) from the Kaggle website.

2/ Data Pre-processing: We plan to examine the data for missing data (for example, null values in relevant fields), outliers (by using statistical tools since as box plots and z tests) and long tails to better understand how the data is structured and how that will affect our analysis.

3/ Data Transformation: Once we have analyzed the data, we may need to do transformations to make it easier to analyze. This may include changing data types (converting address data to geospatial data in the form of longitude and latitudes to make calculating distances between transaction locations easier, for example) and standardizing it (for example, normalizing transaction amounts to calculate how many standard deviations a transaction amount is from the mean).

4/ Model Training / Hyperparameter Tuning: Once we have chosen a model, we will use various techniques to train it to detect fraudulent transactions, including hyperparameter tuning.

5/ Batch Inference: Because the dataset is large, we may use batch inference to obtain outputs from our model.

6/ Model Evaluation: We will use various techniques to evaluate the effectiveness of our model in finding anomalies. 

#### ii. What is the data asset that you plan on using?

The IEEE-CIS Fraud Detection dataset obtained from the Kaggle website.

#### iii. What are the types of analytical frameworks that you would be using?

We plan to use the following analytic frameworks to examine the data:

* Descriptive - Describing transaction characteristics and looking for which characteristics are indicative of fraudulent transactions versus real transactions. A preliminary look into the data indicates that it includes whether a transaction has been charged back, indicating that it is fraudulent. We can use this to see what characteristics (unusual transaction size, location, etc.) fraudulent transactions have as part of our descriptive framework.

* Predictive - Once we have described characteristics of fraudulent transactions, we can use those characteristics to create a model to predict which transactions are fraudulent. For example, we might predict that transactions with unusual sizes or in unusual places are fraudulent.

* Prescriptive - Once our model can successfully predict which characteristics of a transaction should cause it to be flagged as fraudulent, we can then offer prescriptions as to what sort of transactions should be blocked due to a high fraud risk.

As mentioned above, these are specific models we plan to explore:

* Isolation Forest for anomaly detection
* Autoencorders for identifying latent irregularities
* Recurrent Neural Networks for analyzing sequential transaction data
* Clustering will also be used to group similar transactions behaviors/details with real-time streaming data analysis.

*Discuss the analytical frameworks (descriptive, predictive, prescriptive) and specific models you plan to explore.*
        

## Bibliography

**List all the references you used to support your project.**

- “Build End-To-End Machine Learning Workflows with Amazon SageMaker and Apache Airflow.” Amazon Web Services, 8 May 2019, aws.amazon.com/blogs/machine-learning/build-end-to-end-machine-learning-workflows-with-amazon-sagemaker-and-apache-airflow/.
- La Rosa, Patricio, PhD, Cawi, Eric, PhD. "Morphisms Summary" https://wustl.instructure.com/courses/132477/files/8326970?module_item_id=2409943 Slideshow.
        